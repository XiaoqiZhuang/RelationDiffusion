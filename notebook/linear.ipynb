{
 "cells": [
  {
   "cell_type": "code",
   "execution_count": 12,
   "metadata": {},
   "outputs": [
    {
     "name": "stderr",
     "output_type": "stream",
     "text": [
      "d:\\Apps\\Anaconda\\envs\\ldm\\lib\\site-packages\\transformers\\utils\\generic.py:441: FutureWarning: `torch.utils._pytree._register_pytree_node` is deprecated. Please use `torch.utils._pytree.register_pytree_node` instead.\n",
      "  _torch_pytree._register_pytree_node(\n",
      "d:\\Apps\\Anaconda\\envs\\ldm\\lib\\site-packages\\transformers\\utils\\generic.py:309: FutureWarning: `torch.utils._pytree._register_pytree_node` is deprecated. Please use `torch.utils._pytree.register_pytree_node` instead.\n",
      "  _torch_pytree._register_pytree_node(\n",
      "d:\\Apps\\Anaconda\\envs\\ldm\\lib\\site-packages\\transformers\\utils\\generic.py:309: FutureWarning: `torch.utils._pytree._register_pytree_node` is deprecated. Please use `torch.utils._pytree.register_pytree_node` instead.\n",
      "  _torch_pytree._register_pytree_node(\n"
     ]
    }
   ],
   "source": [
    "import os\n",
    "import random\n",
    "import json\n",
    "\n",
    "import sys \n",
    "sys.path.append(\".\")\n",
    "sys.path.append(\"..\")\n",
    "\n",
    "from PIL import Image\n",
    "from tqdm import tqdm\n",
    "\n",
    "import matplotlib.pyplot as plt\n",
    "import numpy as np\n",
    "import torch\n",
    "import torch.nn.functional as F\n",
    "\n",
    "from transformers import CLIPProcessor, CLIPTextModel\n",
    "\n",
    "%load_ext autoreload \n",
    "%autoreload 2"
   ]
  },
  {
   "cell_type": "code",
   "execution_count": 10,
   "metadata": {},
   "outputs": [],
   "source": [
    "def solve_for_W(A, B):\n",
    "    A_pseudo_inv = np.linalg.pinv(A)\n",
    "    \n",
    "    W = np.dot(A_pseudo_inv, B)\n",
    "    return W"
   ]
  },
  {
   "cell_type": "code",
   "execution_count": 13,
   "metadata": {},
   "outputs": [
    {
     "name": "stderr",
     "output_type": "stream",
     "text": [
      "d:\\Apps\\Anaconda\\envs\\ldm\\lib\\site-packages\\huggingface_hub\\file_download.py:1150: FutureWarning: `resume_download` is deprecated and will be removed in version 1.0.0. Downloads always resume when possible. If you want to force a new download, use `force_download=True`.\n",
      "  warnings.warn(\n"
     ]
    }
   ],
   "source": [
    "model_name = \"openai/clip-vit-large-patch14\"  \n",
    "processor = CLIPProcessor.from_pretrained(model_name)\n",
    "text_encoder = CLIPTextModel.from_pretrained(model_name)"
   ]
  },
  {
   "cell_type": "code",
   "execution_count": 24,
   "metadata": {},
   "outputs": [],
   "source": [
    "pairs = [\n",
    "    [\"salt\", \"pepper\"],\n",
    "    [\"knife\", \"fork\"],\n",
    "    [\"pen\", \"paper\"],\n",
    "    [\"phone\", \"charger\"],\n",
    "    [\"milk\", \"cookies\"],\n",
    "    [\"shoes\", \"socks\"],\n",
    "    [\"tea\", \"sugar\"],\n",
    "    [\"computer\", \"mouse\"],\n",
    "]"
   ]
  },
  {
   "cell_type": "code",
   "execution_count": 22,
   "metadata": {},
   "outputs": [],
   "source": [
    "valid_pairs = [[\"book\", \"bookmark\"], [\"coffee\", \"creamer\"]]"
   ]
  },
  {
   "cell_type": "code",
   "execution_count": 25,
   "metadata": {},
   "outputs": [],
   "source": [
    "prompts = ['a ' + s1 + ' and ' + 'a ' + s2 for s1, s2 in pairs]"
   ]
  },
  {
   "cell_type": "code",
   "execution_count": 35,
   "metadata": {},
   "outputs": [],
   "source": [
    "infer_prompt = ['a ' + s1 + ' and ' + 'a ' + s2 for s1, s2 in valid_pairs]"
   ]
  },
  {
   "cell_type": "code",
   "execution_count": 2,
   "metadata": {},
   "outputs": [],
   "source": [
    "prompts = ['a ' + s1 + ' is riding on a ' + s2 for s1 in ['man', 'woman'] for s2 in ['bike', 'motorcycle', 'horse']]"
   ]
  },
  {
   "cell_type": "code",
   "execution_count": 3,
   "metadata": {},
   "outputs": [
    {
     "data": {
      "text/plain": [
       "['a man is riding on a bike',\n",
       " 'a man is riding on a motorcycle',\n",
       " 'a man is riding on a horse',\n",
       " 'a woman is riding on a bike',\n",
       " 'a woman is riding on a motorcycle',\n",
       " 'a woman is riding on a horse']"
      ]
     },
     "execution_count": 3,
     "metadata": {},
     "output_type": "execute_result"
    }
   ],
   "source": [
    "prompts"
   ]
  },
  {
   "cell_type": "code",
   "execution_count": 6,
   "metadata": {},
   "outputs": [
    {
     "name": "stdout",
     "output_type": "stream",
     "text": [
      "['a man riding on a bike', 'a man riding on a motorcycle', 'a man riding on a horse', 'a woman riding on a bike', 'a woman riding on a motorcycle', 'a woman riding on a horse']\n"
     ]
    }
   ],
   "source": [
    "indice_dic = {'s1': 2, 's2': 7, 'r':4}\n",
    "token_dic = {name: [prompt.split()[pos-1] for prompt in prompts] for name, pos in indice_dic.items()}\n",
    "\n",
    "refer_prompt = [f\"a {s1} {r} on a {s2}\" for s1, r, s2 in zip(token_dic['s1'], token_dic['r'], token_dic['s2'])]\n",
    "print(refer_prompt)"
   ]
  },
  {
   "cell_type": "code",
   "execution_count": 7,
   "metadata": {},
   "outputs": [
    {
     "data": {
      "text/plain": [
       "{'s1': ['man', 'man', 'man', 'woman', 'woman', 'woman'],\n",
       " 's2': ['bike', 'motorcycle', 'horse', 'bike', 'motorcycle', 'horse'],\n",
       " 'r': ['riding', 'riding', 'riding', 'riding', 'riding', 'riding']}"
      ]
     },
     "execution_count": 7,
     "metadata": {},
     "output_type": "execute_result"
    }
   ],
   "source": [
    "token_dic"
   ]
  },
  {
   "cell_type": "code",
   "execution_count": 14,
   "metadata": {},
   "outputs": [],
   "source": [
    "def extract_embedding(prompt, token_dic):\n",
    "    inputs = processor(\n",
    "        prompt,\n",
    "        padding=\"max_length\",\n",
    "        truncation=True,\n",
    "        return_tensors=\"pt\",\n",
    "    )\n",
    "\n",
    "    embeds = text_encoder(inputs.input_ids).last_hidden_state\n",
    "\n",
    "    eot = embeds[:, len(prompt[0].split())+1]\n",
    "\n",
    "    inputs = processor(\n",
    "        token_dic['s1'],\n",
    "        padding=\"max_length\",\n",
    "        truncation=True,\n",
    "        return_tensors=\"pt\",\n",
    "    )\n",
    "    s1 = text_encoder(inputs.input_ids).last_hidden_state[:, 1]\n",
    "\n",
    "    inputs = processor(\n",
    "        token_dic['r'],\n",
    "        padding=\"max_length\",\n",
    "        truncation=True,\n",
    "        return_tensors=\"pt\",\n",
    "    )\n",
    "    r = text_encoder(inputs.input_ids).last_hidden_state[:, 1]\n",
    "\n",
    "    inputs = processor(\n",
    "        token_dic['s2'],\n",
    "        padding=\"max_length\",\n",
    "        truncation=True,\n",
    "        return_tensors=\"pt\",\n",
    "    )\n",
    "    s2 = text_encoder(inputs.input_ids).last_hidden_state[:, 1]\n",
    "\n",
    "    return [s1, r, s2, eot]"
   ]
  },
  {
   "cell_type": "code",
   "execution_count": 15,
   "metadata": {},
   "outputs": [],
   "source": [
    "refer = extract_embedding(refer_prompt, token_dic)"
   ]
  },
  {
   "cell_type": "code",
   "execution_count": 16,
   "metadata": {},
   "outputs": [],
   "source": [
    "a = torch.linalg.lstsq(refer[0]+refer[1]+refer[2], refer[3]).solution"
   ]
  },
  {
   "cell_type": "code",
   "execution_count": 17,
   "metadata": {},
   "outputs": [],
   "source": [
    "infer_prompt = ['a man is riding on a dog']"
   ]
  },
  {
   "cell_type": "code",
   "execution_count": 12,
   "metadata": {},
   "outputs": [],
   "source": [
    "infer_prompt = ['a ' + s1 + ' is riding on a ' + s2 for s1 in ['woman'] for s2 in ['bike', 'motorcycle', 'horse']]"
   ]
  },
  {
   "cell_type": "code",
   "execution_count": 18,
   "metadata": {},
   "outputs": [
    {
     "data": {
      "text/plain": [
       "['a man is riding on a dog']"
      ]
     },
     "execution_count": 18,
     "metadata": {},
     "output_type": "execute_result"
    }
   ],
   "source": [
    "infer_prompt"
   ]
  },
  {
   "cell_type": "code",
   "execution_count": 25,
   "metadata": {},
   "outputs": [
    {
     "data": {
      "text/plain": [
       "{'s1': ['man', 'man', 'man', 'woman', 'woman', 'woman'],\n",
       " 's2': ['bike', 'motorcycle', 'horse', 'bike', 'motorcycle', 'horse'],\n",
       " 'r': ['riding', 'riding', 'riding', 'riding', 'riding', 'riding']}"
      ]
     },
     "execution_count": 25,
     "metadata": {},
     "output_type": "execute_result"
    }
   ],
   "source": [
    "token_dic"
   ]
  },
  {
   "cell_type": "code",
   "execution_count": 27,
   "metadata": {},
   "outputs": [],
   "source": [
    "infer_dic = {'s1': ['man'], 's2': ['dog'], 'r': ['riding']}"
   ]
  },
  {
   "cell_type": "code",
   "execution_count": 28,
   "metadata": {},
   "outputs": [],
   "source": [
    "infer = extract_embedding(infer_prompt, infer_dic)"
   ]
  },
  {
   "cell_type": "code",
   "execution_count": 29,
   "metadata": {},
   "outputs": [],
   "source": [
    "infer_eot = torch.matmul(infer[0]+infer[1]+infer[2], a)"
   ]
  },
  {
   "cell_type": "code",
   "execution_count": 30,
   "metadata": {},
   "outputs": [
    {
     "data": {
      "text/plain": [
       "torch.Size([1, 768])"
      ]
     },
     "execution_count": 30,
     "metadata": {},
     "output_type": "execute_result"
    }
   ],
   "source": [
    "infer_eot.shape"
   ]
  },
  {
   "cell_type": "code",
   "execution_count": 171,
   "metadata": {},
   "outputs": [],
   "source": [
    "torch.save(infer_eot, 'ride_eot.pt')"
   ]
  },
  {
   "cell_type": "code",
   "execution_count": 45,
   "metadata": {},
   "outputs": [],
   "source": [
    "inputs = processor(\n",
    "    refer_prompt,\n",
    "    padding=\"max_length\",\n",
    "    truncation=True,\n",
    "    return_tensors=\"pt\",\n",
    ")\n",
    "\n",
    "embeds = text_encoder(inputs.input_ids).last_hidden_state"
   ]
  },
  {
   "cell_type": "code",
   "execution_count": 44,
   "metadata": {},
   "outputs": [
    {
     "data": {
      "text/plain": [
       "['a salt and a pepper',\n",
       " 'a knife and a fork',\n",
       " 'a pen and a paper',\n",
       " 'a phone and a charger',\n",
       " 'a milk and a cookies',\n",
       " 'a shoes and a socks',\n",
       " 'a tea and a sugar',\n",
       " 'a computer and a mouse']"
      ]
     },
     "execution_count": 44,
     "metadata": {},
     "output_type": "execute_result"
    }
   ],
   "source": [
    "refer_prompt"
   ]
  },
  {
   "cell_type": "code",
   "execution_count": 46,
   "metadata": {},
   "outputs": [],
   "source": [
    "t = embeds[:, 6]"
   ]
  },
  {
   "cell_type": "code",
   "execution_count": 51,
   "metadata": {},
   "outputs": [
    {
     "data": {
      "text/plain": [
       "tensor([1.0000, 1.0000, 1.0000, 1.0000, 1.0000, 1.0000, 1.0000, 1.0000],\n",
       "       grad_fn=<SumBackward1>)"
      ]
     },
     "execution_count": 51,
     "metadata": {},
     "output_type": "execute_result"
    }
   ],
   "source": [
    "torch.nn.functional.cosine_similarity(t, infer_eot)"
   ]
  },
  {
   "cell_type": "code",
   "execution_count": 44,
   "metadata": {},
   "outputs": [],
   "source": [
    "def get_subject_embedding(token):\n",
    "    inputs = processor(\n",
    "        token,\n",
    "        padding=\"max_length\",\n",
    "        truncation=True,\n",
    "        return_tensors=\"pt\",\n",
    "    )\n",
    "    subject_embedds = text_encoder(inputs.input_ids).last_hidden_state[:, 1]\n",
    "    return subject_embedds"
   ]
  },
  {
   "cell_type": "code",
   "execution_count": 166,
   "metadata": {},
   "outputs": [],
   "source": [
    "tmp = get_subject_embedding(['man', 'riding', 'dog'])"
   ]
  },
  {
   "cell_type": "code",
   "execution_count": 167,
   "metadata": {},
   "outputs": [],
   "source": [
    "torch.save(tmp, 'sub_embeds.pt')"
   ]
  },
  {
   "cell_type": "code",
   "execution_count": 158,
   "metadata": {},
   "outputs": [
    {
     "data": {
      "text/plain": [
       "torch.Size([3, 768])"
      ]
     },
     "execution_count": 158,
     "metadata": {},
     "output_type": "execute_result"
    }
   ],
   "source": [
    "tmp.shape"
   ]
  },
  {
   "cell_type": "code",
   "execution_count": 1,
   "metadata": {},
   "outputs": [],
   "source": [
    "import json"
   ]
  },
  {
   "cell_type": "code",
   "execution_count": 8,
   "metadata": {},
   "outputs": [],
   "source": [
    "inside_subjects = [\n",
    "    \"House\", \"Car\", \"Box\", \"Bag\", \"Room\", \"Envelope\", \"Drawer\", \"Cabinet\", \"Closet\", \n",
    "    \"Safe\", \"Jar\", \"Bottle\", \"Cup\", \"Bowl\", \"Fridge\", \"Oven\", \"Microwave\", \"Pantry\", \n",
    "    \"Suitcase\", \"Briefcase\", \"Backpack\", \"Pocket\", \"Wallet\", \"Purse\", \"Garage\", \n",
    "    \"Warehouse\", \"Building\", \"Tent\", \"Apartment\", \"Office\", \"Library\", \"Classroom\", \n",
    "    \"Laboratory\", \"Hospital\", \"Clinic\", \"Church\", \"Temple\", \"Mosque\", \"Stadium\", \n",
    "    \"Gym\", \"Arena\", \"Courtroom\", \"Prison\", \"Jail\", \"Cell\", \"Dungeon\", \"Castle\", \n",
    "    \"Basement\", \"Attic\", \"Shed\", \"Factory\", \"Workshop\", \"Barn\", \"Stable\", \"Aquarium\", \n",
    "    \"Cage\", \"Nest\", \"Burrow\", \"Cave\", \"Tunnel\", \"Subway\", \"Elevator\", \"Escalator\", \n",
    "    \"Hallway\", \"Corridor\", \"Lighthouse\", \"Observatory\", \"Theater\", \"Cinema\", \n",
    "    \"Museum\", \"Exhibit\", \"Gallery\", \"Restaurant\", \"Café\", \"Bar\", \"Club\", \"Hotel\", \n",
    "    \"Resort\", \"Lobby\", \"Reception\", \"Chamber\", \"Vault\", \"Bank\", \"Mine\", \"Crater\", \n",
    "    \"Volcano\", \"Cocoon\", \"Shell\", \"Egg\", \"Womb\", \"Heart\", \"Mind\", \"Soul\", \"Book\", \n",
    "    \"Computer\", \"Phone\", \"Tablet\", \"Cloud\", \"Network\", \"Internet\", \"Database\", \n",
    "    \"File\", \"Folder\"\n",
    "]"
   ]
  },
  {
   "cell_type": "code",
   "execution_count": 9,
   "metadata": {},
   "outputs": [],
   "source": [
    "with open('../inside.json', 'w') as fn:\n",
    "    json.dump(inside_subjects, fn)"
   ]
  },
  {
   "cell_type": "code",
   "execution_count": null,
   "metadata": {},
   "outputs": [],
   "source": []
  }
 ],
 "metadata": {
  "kernelspec": {
   "display_name": "ldm",
   "language": "python",
   "name": "python3"
  },
  "language_info": {
   "codemirror_mode": {
    "name": "ipython",
    "version": 3
   },
   "file_extension": ".py",
   "mimetype": "text/x-python",
   "name": "python",
   "nbconvert_exporter": "python",
   "pygments_lexer": "ipython3",
   "version": "3.8.5"
  }
 },
 "nbformat": 4,
 "nbformat_minor": 2
}
