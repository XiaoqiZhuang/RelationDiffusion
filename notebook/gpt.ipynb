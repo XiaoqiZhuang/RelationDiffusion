{
 "cells": [
  {
   "cell_type": "code",
   "execution_count": 1,
   "metadata": {},
   "outputs": [
    {
     "name": "stderr",
     "output_type": "stream",
     "text": [
      "d:\\Apps\\Anaconda\\envs\\ldm\\lib\\site-packages\\transformers\\utils\\generic.py:441: FutureWarning: `torch.utils._pytree._register_pytree_node` is deprecated. Please use `torch.utils._pytree.register_pytree_node` instead.\n",
      "  _torch_pytree._register_pytree_node(\n",
      "d:\\Apps\\Anaconda\\envs\\ldm\\lib\\site-packages\\transformers\\utils\\generic.py:309: FutureWarning: `torch.utils._pytree._register_pytree_node` is deprecated. Please use `torch.utils._pytree.register_pytree_node` instead.\n",
      "  _torch_pytree._register_pytree_node(\n",
      "d:\\Apps\\Anaconda\\envs\\ldm\\lib\\site-packages\\transformers\\utils\\generic.py:309: FutureWarning: `torch.utils._pytree._register_pytree_node` is deprecated. Please use `torch.utils._pytree.register_pytree_node` instead.\n",
      "  _torch_pytree._register_pytree_node(\n"
     ]
    }
   ],
   "source": [
    "import torch\n",
    "import torch.nn.functional as F\n",
    "from transformers import GPT2LMHeadModel, GPT2Tokenizer"
   ]
  },
  {
   "cell_type": "code",
   "execution_count": 2,
   "metadata": {},
   "outputs": [
    {
     "name": "stderr",
     "output_type": "stream",
     "text": [
      "d:\\Apps\\Anaconda\\envs\\ldm\\lib\\site-packages\\huggingface_hub\\file_download.py:1150: FutureWarning: `resume_download` is deprecated and will be removed in version 1.0.0. Downloads always resume when possible. If you want to force a new download, use `force_download=True`.\n",
      "  warnings.warn(\n"
     ]
    }
   ],
   "source": [
    "# 加载GPT-2模型和分词器\n",
    "model = GPT2LMHeadModel.from_pretrained('gpt2')\n",
    "tokenizer = GPT2Tokenizer.from_pretrained('gpt2')"
   ]
  },
  {
   "cell_type": "code",
   "execution_count": 11,
   "metadata": {},
   "outputs": [],
   "source": [
    "def relation_search(input_text, threshold=None, top_k=None):\n",
    "\n",
    "    res = {}\n",
    "\n",
    "    input_ids = tokenizer.encode(input_text, return_tensors='pt')\n",
    "    with torch.no_grad():\n",
    "        outputs = model(input_ids)\n",
    "        logits = outputs.logits\n",
    "    # 取最后一个词的logits\n",
    "    last_token_logits = logits[0, -1, :]\n",
    "\n",
    "    probabilities = torch.softmax(last_token_logits, dim=-1)\n",
    "\n",
    "    if top_k:\n",
    "        top_k_probs, top_k_indices = torch.topk(probabilities, top_k)\n",
    "        top_k_tokens = [tokenizer.decode([idx]) for idx in top_k_indices]\n",
    "        for i in range(top_k):\n",
    "            res[top_k_tokens[i]] = top_k_probs[i].item()\n",
    "    \n",
    "    if threshold:\n",
    "        high_prob_indices = (probabilities > threshold).nonzero(as_tuple=True)[0]\n",
    "        high_probabilities = probabilities[high_prob_indices]\n",
    "\n",
    "        words_and_probs = [(tokenizer.decode([idx]), prob.item()) for idx, prob in zip(high_prob_indices, high_probabilities)]\n",
    "        words_and_probs_sorted = sorted(words_and_probs, key=lambda x: x[1], reverse=True)\n",
    "\n",
    "        for word, prob in words_and_probs_sorted:\n",
    "            res[word] = prob\n",
    "    return res"
   ]
  },
  {
   "cell_type": "code",
   "execution_count": 33,
   "metadata": {},
   "outputs": [],
   "source": [
    "subjects = [\n",
    "    \"Mural\",\n",
    "    \"Graffiti\",\n",
    "    \"Logo\",\n",
    "    \"Artwork\",\n",
    "    \"Design\",\n",
    "    \"Pattern\",\n",
    "    \"Scene\",\n",
    "    \"Stripes\",\n",
    "    \"Message\",\n",
    "    \"Picture\",\n",
    "    \"Portrait\",\n",
    "    \"Advertisement\",\n",
    "    \"Symbol\",\n",
    "    \"Flag\",\n",
    "    \"Sign\",\n",
    "    \"Illustration\",\n",
    "    \"Map\",\n",
    "    \"Image\",\n",
    "    \"Drawing\",\n",
    "    \"Landscape\",\n",
    "    \"Animal\",\n",
    "    \"Flower\",\n",
    "    \"Character\",\n",
    "    \"Slogan\",\n",
    "    \"Banner\",\n",
    "    \"Shape\",\n",
    "    \"Stencil\",\n",
    "    \"Letter\",\n",
    "    \"Number\",\n",
    "    \"Caricature\",\n",
    "    \"Cartoon\",\n",
    "    \"Texture\",\n",
    "    \"Wave\",\n",
    "    \"Cloud\",\n",
    "    \"Mountain\",\n",
    "    \"Tree\",\n",
    "    \"Building\",\n",
    "    \"Figure\",\n",
    "    \"Silhouette\",\n",
    "    \"Pattern\",\n",
    "    \"Rainbow\",\n",
    "    \"Planet\",\n",
    "    \"Bird\",\n",
    "    \"Sun\",\n",
    "    \"Moon\",\n",
    "    \"Star\",\n",
    "    \"Quote\",\n",
    "    \"Sketch\",\n",
    "    \"Vehicle\",\n",
    "    \"Boat\",\n",
    "    \"Plane\",\n",
    "    \"Arrow\",\n",
    "    \"Fish\",\n",
    "    \"Abstract\",\n",
    "    \"Dragon\",\n",
    "    \"Tiger\",\n",
    "    \"Eagle\",\n",
    "    \"Phoenix\",\n",
    "    \"Butterfly\",\n",
    "    \"Spiral\",\n",
    "    \"Sunset\",\n",
    "    \"River\",\n",
    "    \"Bridge\",\n",
    "    \"Cityscape\",\n",
    "    \"Skyscraper\",\n",
    "    \"Forest\",\n",
    "    \"Dinosaur\",\n",
    "    \"Elephant\",\n",
    "    \"Tiger\",\n",
    "    \"Lion\",\n",
    "    \"Whale\",\n",
    "    \"Shark\",\n",
    "    \"Eagle\",\n",
    "    \"Horse\",\n",
    "    \"Tree\",\n",
    "    \"Castle\",\n",
    "    \"Galaxy\",\n",
    "    \"Robot\",\n",
    "    \"Spaceship\",\n",
    "    \"Alien\",\n",
    "    \"Wave\",\n",
    "    \"Cloud\",\n",
    "    \"Desert\",\n",
    "    \"Volcano\",\n",
    "    \"Island\",\n",
    "    \"Ocean\",\n",
    "    \"Waterfall\",\n",
    "    \"Train\",\n",
    "    \"Bicycle\",\n",
    "    \"Helmet\",\n",
    "    \"Sword\",\n",
    "    \"Shield\",\n",
    "    \"Armor\",\n",
    "    \"Scroll\",\n",
    "    \"Tapestry\",\n",
    "    \"Banner\",\n",
    "    \"Fresco\",\n",
    "    \"Emblem\",\n",
    "    \"Badge\",\n",
    "    \"Monogram\",\n",
    "    \"Seal\"\n",
    "]\n"
   ]
  },
  {
   "cell_type": "code",
   "execution_count": 34,
   "metadata": {},
   "outputs": [],
   "source": [
    "import json\n",
    "\n",
    "with open('painted.json', 'w') as fn:\n",
    "    json.dump(subjects, fn)"
   ]
  },
  {
   "cell_type": "code",
   "execution_count": 24,
   "metadata": {},
   "outputs": [],
   "source": [
    "# 输入文本\n",
    "input_text = [f\"a {sub} is painted on a\" for sub in subjects]"
   ]
  },
  {
   "cell_type": "code",
   "execution_count": 18,
   "metadata": {},
   "outputs": [],
   "source": [
    "input_text = ['a man is riding on a']"
   ]
  },
  {
   "cell_type": "code",
   "execution_count": 25,
   "metadata": {},
   "outputs": [],
   "source": [
    "res = []\n",
    "for text in input_text:\n",
    "    tmp = relation_search(text, threshold=0.05)\n",
    "    if len(tmp) != 0:\n",
    "        tmp_text = [f'{text}{sub}' for sub in tmp.keys()]\n",
    "        res.extend(tmp_text)"
   ]
  },
  {
   "cell_type": "code",
   "execution_count": 27,
   "metadata": {},
   "outputs": [
    {
     "data": {
      "text/plain": [
       "44"
      ]
     },
     "execution_count": 27,
     "metadata": {},
     "output_type": "execute_result"
    }
   ],
   "source": [
    "len(res)"
   ]
  },
  {
   "cell_type": "code",
   "execution_count": 32,
   "metadata": {},
   "outputs": [
    {
     "data": {
      "text/plain": [
       "'a Mural is painted on a wall'"
      ]
     },
     "execution_count": 32,
     "metadata": {},
     "output_type": "execute_result"
    }
   ],
   "source": [
    "res[0]"
   ]
  },
  {
   "cell_type": "code",
   "execution_count": 18,
   "metadata": {},
   "outputs": [],
   "source": [
    "prompts = [input_text + s for s in res.keys()]"
   ]
  },
  {
   "cell_type": "markdown",
   "metadata": {},
   "source": []
  },
  {
   "cell_type": "code",
   "execution_count": 19,
   "metadata": {},
   "outputs": [
    {
     "data": {
      "text/plain": [
       "['a bird is playing with a bird',\n",
       " 'a bird is playing with a ball',\n",
       " 'a bird is playing with a toy',\n",
       " 'a bird is playing with a stick',\n",
       " 'a bird is playing with a dog']"
      ]
     },
     "execution_count": 19,
     "metadata": {},
     "output_type": "execute_result"
    }
   ],
   "source": [
    "relation_search(input_text, threshold=0.1)"
   ]
  },
  {
   "cell_type": "code",
   "execution_count": 9,
   "metadata": {},
   "outputs": [
    {
     "data": {
      "text/plain": [
       "'a Mural is painted on a'"
      ]
     },
     "execution_count": 9,
     "metadata": {},
     "output_type": "execute_result"
    }
   ],
   "source": [
    "input_text[0]"
   ]
  },
  {
   "cell_type": "code",
   "execution_count": 31,
   "metadata": {},
   "outputs": [
    {
     "name": "stdout",
     "output_type": "stream",
     "text": [
      "54\n"
     ]
    }
   ],
   "source": [
    "a = '5'\n",
    "b = '4'\n",
    "\n",
    "print(f'{a}{b}')"
   ]
  },
  {
   "cell_type": "code",
   "execution_count": 35,
   "metadata": {},
   "outputs": [
    {
     "data": {
      "text/plain": [
       "['a Mural is painted on a wall',\n",
       " 'a Graffiti is painted on a wall',\n",
       " 'a Logo is painted on a white',\n",
       " 'a Scene is painted on a wall',\n",
       " 'a Stripes is painted on a wall',\n",
       " 'a Message is painted on a wall',\n",
       " 'a Picture is painted on a wall',\n",
       " 'a Advertisement is painted on a wall',\n",
       " 'a Flag is painted on a flag',\n",
       " 'a Sign is painted on a wall',\n",
       " 'a Image is painted on a wall',\n",
       " 'a Slogan is painted on a wall',\n",
       " 'a Banner is painted on a wall',\n",
       " 'a Letter is painted on a wall',\n",
       " 'a Letter is painted on a piece',\n",
       " 'a Number is painted on a piece',\n",
       " 'a Building is painted on a wall',\n",
       " 'a Figure is painted on a piece',\n",
       " 'a Rainbow is painted on a white',\n",
       " 'a Quote is painted on a piece',\n",
       " 'a Quote is painted on a wall',\n",
       " 'a Sketch is painted on a wall',\n",
       " 'a Vehicle is painted on a white',\n",
       " 'a Plane is painted on a white',\n",
       " 'a Abstract is painted on a wall',\n",
       " 'a River is painted on a wall',\n",
       " 'a Skyscraper is painted on a wall',\n",
       " 'a Elephant is painted on a wall',\n",
       " 'a Lion is painted on a white',\n",
       " 'a Castle is painted on a wall',\n",
       " 'a Galaxy is painted on a black',\n",
       " 'a Galaxy is painted on a white',\n",
       " 'a Alien is painted on a black',\n",
       " 'a Helmet is painted on a white',\n",
       " 'a Helmet is painted on a black',\n",
       " 'a Sword is painted on a white',\n",
       " 'a Shield is painted on a white',\n",
       " 'a Shield is painted on a black',\n",
       " 'a Armor is painted on a black',\n",
       " 'a Banner is painted on a wall',\n",
       " 'a Fresco is painted on a wall',\n",
       " 'a Emblem is painted on a white',\n",
       " 'a Badge is painted on a white',\n",
       " 'a Monogram is painted on a white']"
      ]
     },
     "execution_count": 35,
     "metadata": {},
     "output_type": "execute_result"
    }
   ],
   "source": [
    "res"
   ]
  },
  {
   "cell_type": "code",
   "execution_count": null,
   "metadata": {},
   "outputs": [],
   "source": []
  }
 ],
 "metadata": {
  "kernelspec": {
   "display_name": "ldm",
   "language": "python",
   "name": "python3"
  },
  "language_info": {
   "codemirror_mode": {
    "name": "ipython",
    "version": 3
   },
   "file_extension": ".py",
   "mimetype": "text/x-python",
   "name": "python",
   "nbconvert_exporter": "python",
   "pygments_lexer": "ipython3",
   "version": "3.8.5"
  }
 },
 "nbformat": 4,
 "nbformat_minor": 2
}
